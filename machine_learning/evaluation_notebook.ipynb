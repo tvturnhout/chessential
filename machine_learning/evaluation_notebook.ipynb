{
 "cells": [
  {
   "cell_type": "markdown",
   "metadata": {
    "toc": true
   },
   "source": [
    "<h1>Table of Contents<span class=\"tocSkip\"></span></h1>\n",
    "<div class=\"toc\" style=\"margin-top: 1em;\"><ul class=\"toc-item\"></ul></div>"
   ]
  },
  {
   "cell_type": "code",
   "execution_count": null,
   "metadata": {},
   "outputs": [],
   "source": [
    "import keras"
   ]
  },
  {
   "cell_type": "code",
   "execution_count": null,
   "metadata": {},
   "outputs": [],
   "source": [
    "from keras.models import Sequential\n",
    "from keras.layers import Dense, Dropout, Activation\n",
    "from keras.optimizers import SGD"
   ]
  },
  {
   "cell_type": "code",
   "execution_count": null,
   "metadata": {},
   "outputs": [],
   "source": [
    "import sys\n",
    "sys.path.insert(0, './../functions')\n",
    "from file_reader import readdata\n",
    "from run_chessential import predict\n",
    "from evaluation import legal_move, play_against_nn\n",
    "from vectorize import vector2board, vector2string, board2vector\n",
    "\n",
    "import numpy as np\n",
    "import chess\n",
    "import chess.svg\n",
    "import random\n",
    "import time\n",
    "from IPython.display import SVG, display"
   ]
  },
  {
   "cell_type": "markdown",
   "metadata": {},
   "source": [
    "Check predictions on dataset"
   ]
  },
  {
   "cell_type": "code",
   "execution_count": null,
   "metadata": {},
   "outputs": [],
   "source": [
    "if False:\n",
    "    debug_illegal_predictions = False\n",
    "    print_moves = False\n",
    "\n",
    "    X, y = readdata('./../data/20180209T2142boards.h5')\n",
    "\n",
    "    predicted_boards = predict(X)\n",
    "\n",
    "    start = time.time()\n",
    "    legal_counter = 0\n",
    "    for i in range(len(predicted_boards)):\n",
    "        board_pred = predicted_boards[i]\n",
    "        board_in = X[i]\n",
    "        move = legal_move(board_in,board_pred)\n",
    "        if print_moves:\n",
    "            print('Legal move: {}'.format(move))\n",
    "        if move is None and debug_illegal_predictions:\n",
    "            print('Board in:\\n-------------------')\n",
    "            display(vector2board(board_in))\n",
    "            print('Board predicted:\\n-------------------')\n",
    "            display(vector2board(board_pred))\n",
    "            ans = input(\"Press Enter to continue, 'quit' to stop debugging...\")\n",
    "            if ans == 'quit':\n",
    "                debug_illegal_predictions = False\n",
    "        elif not move is None:\n",
    "            legal_counter = legal_counter + 1\n",
    "    end = time.time()\n",
    "    print('Verification time per move: {0:0.5f}sec'.format((end-start)/len(predicted_boards)))\n",
    "    print('Percentage of legal moves: {}%'.format(float(legal_counter)/float(len(predicted_boards))*100))"
   ]
  },
  {
   "cell_type": "markdown",
   "metadata": {},
   "source": [
    "Check if all legal moves can be detected from all legal outcomes of start\n",
    "situation."
   ]
  },
  {
   "cell_type": "code",
   "execution_count": null,
   "metadata": {},
   "outputs": [],
   "source": [
    "print('Legal moves detected from all legal outcomes of start situation:')\n",
    "board = chess.Board()\n",
    "potential_moves = []\n",
    "potential_outcomes = []\n",
    "for move in board.legal_moves:\n",
    "    potential_moves.append(move)\n",
    "    b = board.copy()\n",
    "    b.push(move)\n",
    "    potential_outcomes.append(b)\n",
    "moves = [legal_move(board,potential_outcomes[i]) for i in range(len(potential_outcomes)) ]\n",
    "print(moves)"
   ]
  },
  {
   "cell_type": "markdown",
   "metadata": {},
   "source": [
    "Play against the model"
   ]
  },
  {
   "cell_type": "code",
   "execution_count": null,
   "metadata": {},
   "outputs": [],
   "source": [
    "play_against_nn()"
   ]
  },
  {
   "cell_type": "code",
   "execution_count": null,
   "metadata": {},
   "outputs": [],
   "source": []
  }
 ],
 "metadata": {
  "kernelspec": {
   "display_name": "Python 3",
   "language": "python",
   "name": "python3"
  },
  "language_info": {
   "codemirror_mode": {
    "name": "ipython",
    "version": 3
   },
   "file_extension": ".py",
   "mimetype": "text/x-python",
   "name": "python",
   "nbconvert_exporter": "python",
   "pygments_lexer": "ipython3",
   "version": "3.6.3"
  },
  "toc": {
   "nav_menu": {},
   "number_sections": true,
   "sideBar": true,
   "skip_h1_title": true,
   "toc_cell": true,
   "toc_position": {},
   "toc_section_display": "block",
   "toc_window_display": true
  },
  "varInspector": {
   "cols": {
    "lenName": 16,
    "lenType": 16,
    "lenVar": 40
   },
   "kernels_config": {
    "python": {
     "delete_cmd_postfix": "",
     "delete_cmd_prefix": "del ",
     "library": "var_list.py",
     "varRefreshCmd": "print(var_dic_list())"
    },
    "r": {
     "delete_cmd_postfix": ") ",
     "delete_cmd_prefix": "rm(",
     "library": "var_list.r",
     "varRefreshCmd": "cat(var_dic_list()) "
    }
   },
   "types_to_exclude": [
    "module",
    "function",
    "builtin_function_or_method",
    "instance",
    "_Feature"
   ],
   "window_display": false
  }
 },
 "nbformat": 4,
 "nbformat_minor": 2
}
